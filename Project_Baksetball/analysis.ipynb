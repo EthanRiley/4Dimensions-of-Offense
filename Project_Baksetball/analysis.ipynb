{
 "cells": [
  {
   "cell_type": "markdown",
   "metadata": {},
   "source": [
    "# The Shape of NBA Offense\n",
    "Is there a single formula capable of creating a good NBA offense? Are there hard and fast strategic rules which every team must implement in order to create a championship capable offenses?"
   ]
  },
  {
   "cell_type": "code",
   "execution_count": 1,
   "metadata": {},
   "outputs": [],
   "source": [
    "import pandas as pd\n",
    "import numpy as np"
   ]
  },
  {
   "cell_type": "markdown",
   "metadata": {},
   "source": [
    "Lets take offensive style and quality data from 2014-2020. This is just a little section of me familiarizing myself with the data."
   ]
  },
  {
   "cell_type": "code",
   "execution_count": 2,
   "metadata": {},
   "outputs": [],
   "source": [
    "data = pd.read_csv('offense.csv')\n"
   ]
  },
  {
   "cell_type": "code",
   "execution_count": 3,
   "metadata": {},
   "outputs": [
    {
     "name": "stdout",
     "output_type": "stream",
     "text": [
      "Data shape: (210, 12)\n"
     ]
    }
   ],
   "source": [
    "print (\"Data shape:\", data.shape)"
   ]
  },
  {
   "cell_type": "code",
   "execution_count": 4,
   "metadata": {},
   "outputs": [
    {
     "data": {
      "text/html": [
       "<div>\n",
       "<style scoped>\n",
       "    .dataframe tbody tr th:only-of-type {\n",
       "        vertical-align: middle;\n",
       "    }\n",
       "\n",
       "    .dataframe tbody tr th {\n",
       "        vertical-align: top;\n",
       "    }\n",
       "\n",
       "    .dataframe thead th {\n",
       "        text-align: right;\n",
       "    }\n",
       "</style>\n",
       "<table border=\"1\" class=\"dataframe\">\n",
       "  <thead>\n",
       "    <tr style=\"text-align: right;\">\n",
       "      <th></th>\n",
       "      <th>ORTGRank</th>\n",
       "      <th>Team</th>\n",
       "      <th>ORTG</th>\n",
       "      <th>Morey</th>\n",
       "      <th>Pace</th>\n",
       "      <th>BallMove</th>\n",
       "      <th>PlayerMove</th>\n",
       "      <th>MoreyRank</th>\n",
       "      <th>PaceRank</th>\n",
       "      <th>BallRank</th>\n",
       "      <th>Player Rank</th>\n",
       "      <th>Year</th>\n",
       "    </tr>\n",
       "  </thead>\n",
       "  <tbody>\n",
       "    <tr>\n",
       "      <td>0</td>\n",
       "      <td>1</td>\n",
       "      <td>Los Angeles Clippers</td>\n",
       "      <td>111.3</td>\n",
       "      <td>0.432808</td>\n",
       "      <td>96.66</td>\n",
       "      <td>2.80</td>\n",
       "      <td>8.61</td>\n",
       "      <td>8</td>\n",
       "      <td>8</td>\n",
       "      <td>26</td>\n",
       "      <td>28</td>\n",
       "      <td>2014</td>\n",
       "    </tr>\n",
       "    <tr>\n",
       "      <td>1</td>\n",
       "      <td>2</td>\n",
       "      <td>Portland Trail Blazers</td>\n",
       "      <td>110.4</td>\n",
       "      <td>0.443299</td>\n",
       "      <td>95.90</td>\n",
       "      <td>3.05</td>\n",
       "      <td>9.33</td>\n",
       "      <td>3</td>\n",
       "      <td>10</td>\n",
       "      <td>15</td>\n",
       "      <td>4</td>\n",
       "      <td>2014</td>\n",
       "    </tr>\n",
       "    <tr>\n",
       "      <td>2</td>\n",
       "      <td>3</td>\n",
       "      <td>Miami Heat</td>\n",
       "      <td>110.0</td>\n",
       "      <td>0.409002</td>\n",
       "      <td>91.90</td>\n",
       "      <td>3.09</td>\n",
       "      <td>8.60</td>\n",
       "      <td>15</td>\n",
       "      <td>27</td>\n",
       "      <td>14</td>\n",
       "      <td>29</td>\n",
       "      <td>2014</td>\n",
       "    </tr>\n",
       "    <tr>\n",
       "      <td>3</td>\n",
       "      <td>4</td>\n",
       "      <td>Houston Rockets</td>\n",
       "      <td>109.8</td>\n",
       "      <td>0.469824</td>\n",
       "      <td>97.27</td>\n",
       "      <td>2.93</td>\n",
       "      <td>8.81</td>\n",
       "      <td>1</td>\n",
       "      <td>6</td>\n",
       "      <td>22</td>\n",
       "      <td>22</td>\n",
       "      <td>2014</td>\n",
       "    </tr>\n",
       "    <tr>\n",
       "      <td>4</td>\n",
       "      <td>6</td>\n",
       "      <td>Dallas Mavericks</td>\n",
       "      <td>109.5</td>\n",
       "      <td>0.412214</td>\n",
       "      <td>94.94</td>\n",
       "      <td>2.97</td>\n",
       "      <td>8.93</td>\n",
       "      <td>12</td>\n",
       "      <td>15</td>\n",
       "      <td>20</td>\n",
       "      <td>17</td>\n",
       "      <td>2014</td>\n",
       "    </tr>\n",
       "  </tbody>\n",
       "</table>\n",
       "</div>"
      ],
      "text/plain": [
       "   ORTGRank                    Team   ORTG     Morey   Pace  BallMove  \\\n",
       "0         1    Los Angeles Clippers  111.3  0.432808  96.66      2.80   \n",
       "1         2  Portland Trail Blazers  110.4  0.443299  95.90      3.05   \n",
       "2         3              Miami Heat  110.0  0.409002  91.90      3.09   \n",
       "3         4         Houston Rockets  109.8  0.469824  97.27      2.93   \n",
       "4         6        Dallas Mavericks  109.5  0.412214  94.94      2.97   \n",
       "\n",
       "   PlayerMove  MoreyRank  PaceRank  BallRank  Player Rank  Year  \n",
       "0        8.61          8         8        26           28  2014  \n",
       "1        9.33          3        10        15            4  2014  \n",
       "2        8.60         15        27        14           29  2014  \n",
       "3        8.81          1         6        22           22  2014  \n",
       "4        8.93         12        15        20           17  2014  "
      ]
     },
     "execution_count": 4,
     "metadata": {},
     "output_type": "execute_result"
    }
   ],
   "source": [
    "data.head()"
   ]
  },
  {
   "cell_type": "code",
   "execution_count": 5,
   "metadata": {},
   "outputs": [],
   "source": [
    "%matplotlib inline\n",
    "import matplotlib.pyplot as plt"
   ]
  },
  {
   "cell_type": "code",
   "execution_count": 6,
   "metadata": {},
   "outputs": [
    {
     "data": {
      "text/plain": [
       "count    210.000000\n",
       "mean     107.376190\n",
       "std        3.660928\n",
       "min       94.900000\n",
       "25%      104.700000\n",
       "50%      107.250000\n",
       "75%      110.200000\n",
       "max      115.800000\n",
       "Name: ORTG, dtype: float64"
      ]
     },
     "execution_count": 6,
     "metadata": {},
     "output_type": "execute_result"
    }
   ],
   "source": [
    "data.ORTG.describe()"
   ]
  },
  {
   "cell_type": "markdown",
   "metadata": {},
   "source": [
    "Lets find out what the distribution for each of these variables looks like. First ORTG, then the \"Morey Percentage,\" then the team's pace, then the average distance traveled on offense over the course of a game, then the average touch time of each ball possession."
   ]
  },
  {
   "cell_type": "code",
   "execution_count": 9,
   "metadata": {},
   "outputs": [
    {
     "name": "stdout",
     "output_type": "stream",
     "text": [
      "Skew is: -0.14447389013307532\n"
     ]
    },
    {
     "data": {
      "text/plain": [
       "(array([ 1.,  3.,  4., 17., 43., 41., 38., 34., 23.,  6.]),\n",
       " array([ 94.9 ,  96.99,  99.08, 101.17, 103.26, 105.35, 107.44, 109.53,\n",
       "        111.62, 113.71, 115.8 ]),\n",
       " <a list of 10 Patch objects>)"
      ]
     },
     "execution_count": 9,
     "metadata": {},
     "output_type": "execute_result"
    },
    {
     "data": {
      "image/png": "[encoded data removed]",
      "text/plain": [
       "<Figure size 432x288 with 1 Axes>"
      ]
     },
     "metadata": {
      "needs_background": "light"
     },
     "output_type": "display_data"
    }
   ],
   "source": [
    "print (\"Skew is:\", data.ORTG.skew()) #prints skew of our data\n",
    "plt.hist(data.ORTG, color='blue') #histogram of our data"
   ]
  },
  {
   "cell_type": "code",
   "execution_count": 14,
   "metadata": {},
   "outputs": [
    {
     "name": "stdout",
     "output_type": "stream",
     "text": [
      "Skew is: 0.23132269180671614\n"
     ]
    },
    {
     "data": {
      "text/plain": [
       "(array([ 3., 10., 24., 44., 44., 46., 24., 10.,  3.,  2.]),\n",
       " array([0.31009365, 0.33843459, 0.36677554, 0.39511648, 0.42345742,\n",
       "        0.45179836, 0.4801393 , 0.50848025, 0.53682119, 0.56516213,\n",
       "        0.59350307]),\n",
       " <a list of 10 Patch objects>)"
      ]
     },
     "execution_count": 14,
     "metadata": {},
     "output_type": "execute_result"
    },
    {
     "data": {
      "image/png": "[encoded data removed]",
      "text/plain": [
       "<Figure size 432x288 with 1 Axes>"
      ]
     },
     "metadata": {
      "needs_background": "light"
     },
     "output_type": "display_data"
    }
   ],
   "source": [
    "print (\"Skew is:\", data.Morey.skew())\n",
    "plt.hist(data.Morey, color='red')\n"
   ]
  },
  {
   "cell_type": "code",
   "execution_count": 15,
   "metadata": {},
   "outputs": [
    {
     "name": "stdout",
     "output_type": "stream",
     "text": [
      "Skew is: 0.12742261662945342\n"
     ]
    },
    {
     "data": {
      "text/plain": [
       "(array([ 7., 17., 21., 32., 44., 37., 24., 13., 10.,  5.]),\n",
       " array([ 90.58 ,  92.058,  93.536,  95.014,  96.492,  97.97 ,  99.448,\n",
       "        100.926, 102.404, 103.882, 105.36 ]),\n",
       " <a list of 10 Patch objects>)"
      ]
     },
     "execution_count": 15,
     "metadata": {},
     "output_type": "execute_result"
    },
    {
     "data": {
      "image/png": "[encoded data removed]",
      "text/plain": [
       "<Figure size 432x288 with 1 Axes>"
      ]
     },
     "metadata": {
      "needs_background": "light"
     },
     "output_type": "display_data"
    }
   ],
   "source": [
    "print (\"Skew is:\", data.Pace.skew())\n",
    "plt.hist(data.Pace, color='green')\n"
   ]
  },
  {
   "cell_type": "code",
   "execution_count": 16,
   "metadata": {},
   "outputs": [
    {
     "name": "stdout",
     "output_type": "stream",
     "text": [
      "Skew is: 0.28259943537244875\n"
     ]
    },
    {
     "data": {
      "text/plain": [
       "(array([10., 23., 38., 31., 25., 27., 19., 21., 12.,  4.]),\n",
       " array([ 8.49,  8.67,  8.85,  9.03,  9.21,  9.39,  9.57,  9.75,  9.93,\n",
       "        10.11, 10.29]),\n",
       " <a list of 10 Patch objects>)"
      ]
     },
     "execution_count": 16,
     "metadata": {},
     "output_type": "execute_result"
    },
    {
     "data": {
      "image/png": "[encoded data removed]",
      "text/plain": [
       "<Figure size 432x288 with 1 Axes>"
      ]
     },
     "metadata": {
      "needs_background": "light"
     },
     "output_type": "display_data"
    }
   ],
   "source": [
    "print (\"Skew is:\", data.PlayerMove.skew())\n",
    "plt.hist(data.PlayerMove, color='yellow')\n"
   ]
  },
  {
   "cell_type": "code",
   "execution_count": 17,
   "metadata": {},
   "outputs": [
    {
     "name": "stdout",
     "output_type": "stream",
     "text": [
      "Skew is: -0.00537883789605475\n"
     ]
    },
    {
     "data": {
      "text/plain": [
       "(array([ 9., 15., 22., 38., 42., 42., 25., 11.,  4.,  2.]),\n",
       " array([2.59 , 2.686, 2.782, 2.878, 2.974, 3.07 , 3.166, 3.262, 3.358,\n",
       "        3.454, 3.55 ]),\n",
       " <a list of 10 Patch objects>)"
      ]
     },
     "execution_count": 17,
     "metadata": {},
     "output_type": "execute_result"
    },
    {
     "data": {
      "image/png": "[encoded data removed]",
      "text/plain": [
       "<Figure size 432x288 with 1 Axes>"
      ]
     },
     "metadata": {
      "needs_background": "light"
     },
     "output_type": "display_data"
    }
   ],
   "source": [
    "print (\"Skew is:\", data.BallMove.skew())\n",
    "plt.hist(data.BallMove, color='teal')"
   ]
  },
  {
   "cell_type": "code",
   "execution_count": 21,
   "metadata": {},
   "outputs": [
    {
     "data": {
      "text/html": [
       "<div>\n",
       "<style scoped>\n",
       "    .dataframe tbody tr th:only-of-type {\n",
       "        vertical-align: middle;\n",
       "    }\n",
       "\n",
       "    .dataframe tbody tr th {\n",
       "        vertical-align: top;\n",
       "    }\n",
       "\n",
       "    .dataframe thead th {\n",
       "        text-align: right;\n",
       "    }\n",
       "</style>\n",
       "<table border=\"1\" class=\"dataframe\">\n",
       "  <thead>\n",
       "    <tr style=\"text-align: right;\">\n",
       "      <th></th>\n",
       "      <th>ORTGRank</th>\n",
       "      <th>ORTG</th>\n",
       "      <th>Morey</th>\n",
       "      <th>Pace</th>\n",
       "      <th>BallMove</th>\n",
       "      <th>PlayerMove</th>\n",
       "      <th>MoreyRank</th>\n",
       "      <th>PaceRank</th>\n",
       "      <th>BallRank</th>\n",
       "      <th>Player Rank</th>\n",
       "      <th>Year</th>\n",
       "    </tr>\n",
       "  </thead>\n",
       "  <tbody>\n",
       "    <tr>\n",
       "      <td>ORTGRank</td>\n",
       "      <td>1.000000</td>\n",
       "      <td>-0.823889</td>\n",
       "      <td>-0.286581</td>\n",
       "      <td>-0.062012</td>\n",
       "      <td>-0.123880</td>\n",
       "      <td>0.222560</td>\n",
       "      <td>0.436235</td>\n",
       "      <td>0.095122</td>\n",
       "      <td>0.125521</td>\n",
       "      <td>-0.327443</td>\n",
       "      <td>0.000000</td>\n",
       "    </tr>\n",
       "    <tr>\n",
       "      <td>ORTG</td>\n",
       "      <td>-0.823889</td>\n",
       "      <td>1.000000</td>\n",
       "      <td>0.545056</td>\n",
       "      <td>0.417175</td>\n",
       "      <td>0.107043</td>\n",
       "      <td>0.138066</td>\n",
       "      <td>-0.350153</td>\n",
       "      <td>-0.080757</td>\n",
       "      <td>-0.103615</td>\n",
       "      <td>0.299199</td>\n",
       "      <td>0.488746</td>\n",
       "    </tr>\n",
       "    <tr>\n",
       "      <td>Morey</td>\n",
       "      <td>-0.286581</td>\n",
       "      <td>0.545056</td>\n",
       "      <td>1.000000</td>\n",
       "      <td>0.520141</td>\n",
       "      <td>-0.000893</td>\n",
       "      <td>0.300889</td>\n",
       "      <td>-0.667192</td>\n",
       "      <td>-0.158577</td>\n",
       "      <td>-0.002070</td>\n",
       "      <td>0.076153</td>\n",
       "      <td>0.584636</td>\n",
       "    </tr>\n",
       "    <tr>\n",
       "      <td>Pace</td>\n",
       "      <td>-0.062012</td>\n",
       "      <td>0.417175</td>\n",
       "      <td>0.520141</td>\n",
       "      <td>1.000000</td>\n",
       "      <td>-0.243005</td>\n",
       "      <td>0.433067</td>\n",
       "      <td>-0.132498</td>\n",
       "      <td>-0.664263</td>\n",
       "      <td>0.239357</td>\n",
       "      <td>0.136771</td>\n",
       "      <td>0.708673</td>\n",
       "    </tr>\n",
       "    <tr>\n",
       "      <td>BallMove</td>\n",
       "      <td>-0.123880</td>\n",
       "      <td>0.107043</td>\n",
       "      <td>-0.000893</td>\n",
       "      <td>-0.243005</td>\n",
       "      <td>1.000000</td>\n",
       "      <td>-0.124009</td>\n",
       "      <td>0.076239</td>\n",
       "      <td>0.344088</td>\n",
       "      <td>-0.954650</td>\n",
       "      <td>0.162466</td>\n",
       "      <td>-0.003051</td>\n",
       "    </tr>\n",
       "    <tr>\n",
       "      <td>PlayerMove</td>\n",
       "      <td>0.222560</td>\n",
       "      <td>0.138066</td>\n",
       "      <td>0.300889</td>\n",
       "      <td>0.433067</td>\n",
       "      <td>-0.124009</td>\n",
       "      <td>1.000000</td>\n",
       "      <td>0.098466</td>\n",
       "      <td>0.126933</td>\n",
       "      <td>0.117577</td>\n",
       "      <td>-0.638832</td>\n",
       "      <td>0.648961</td>\n",
       "    </tr>\n",
       "    <tr>\n",
       "      <td>MoreyRank</td>\n",
       "      <td>0.436235</td>\n",
       "      <td>-0.350153</td>\n",
       "      <td>-0.667192</td>\n",
       "      <td>-0.132498</td>\n",
       "      <td>0.076239</td>\n",
       "      <td>0.098466</td>\n",
       "      <td>1.000000</td>\n",
       "      <td>0.195264</td>\n",
       "      <td>-0.038743</td>\n",
       "      <td>-0.122411</td>\n",
       "      <td>0.001912</td>\n",
       "    </tr>\n",
       "    <tr>\n",
       "      <td>PaceRank</td>\n",
       "      <td>0.095122</td>\n",
       "      <td>-0.080757</td>\n",
       "      <td>-0.158577</td>\n",
       "      <td>-0.664263</td>\n",
       "      <td>0.344088</td>\n",
       "      <td>0.126933</td>\n",
       "      <td>0.195264</td>\n",
       "      <td>1.000000</td>\n",
       "      <td>-0.342806</td>\n",
       "      <td>-0.202733</td>\n",
       "      <td>0.000000</td>\n",
       "    </tr>\n",
       "    <tr>\n",
       "      <td>BallRank</td>\n",
       "      <td>0.125521</td>\n",
       "      <td>-0.103615</td>\n",
       "      <td>-0.002070</td>\n",
       "      <td>0.239357</td>\n",
       "      <td>-0.954650</td>\n",
       "      <td>0.117577</td>\n",
       "      <td>-0.038743</td>\n",
       "      <td>-0.342806</td>\n",
       "      <td>1.000000</td>\n",
       "      <td>-0.134484</td>\n",
       "      <td>-0.001376</td>\n",
       "    </tr>\n",
       "    <tr>\n",
       "      <td>Player Rank</td>\n",
       "      <td>-0.327443</td>\n",
       "      <td>0.299199</td>\n",
       "      <td>0.076153</td>\n",
       "      <td>0.136771</td>\n",
       "      <td>0.162466</td>\n",
       "      <td>-0.638832</td>\n",
       "      <td>-0.122411</td>\n",
       "      <td>-0.202733</td>\n",
       "      <td>-0.134484</td>\n",
       "      <td>1.000000</td>\n",
       "      <td>0.000000</td>\n",
       "    </tr>\n",
       "    <tr>\n",
       "      <td>Year</td>\n",
       "      <td>0.000000</td>\n",
       "      <td>0.488746</td>\n",
       "      <td>0.584636</td>\n",
       "      <td>0.708673</td>\n",
       "      <td>-0.003051</td>\n",
       "      <td>0.648961</td>\n",
       "      <td>0.001912</td>\n",
       "      <td>0.000000</td>\n",
       "      <td>-0.001376</td>\n",
       "      <td>0.000000</td>\n",
       "      <td>1.000000</td>\n",
       "    </tr>\n",
       "  </tbody>\n",
       "</table>\n",
       "</div>"
      ],
      "text/plain": [
       "             ORTGRank      ORTG     Morey      Pace  BallMove  PlayerMove  \\\n",
       "ORTGRank     1.000000 -0.823889 -0.286581 -0.062012 -0.123880    0.222560   \n",
       "ORTG        -0.823889  1.000000  0.545056  0.417175  0.107043    0.138066   \n",
       "Morey       -0.286581  0.545056  1.000000  0.520141 -0.000893    0.300889   \n",
       "Pace        -0.062012  0.417175  0.520141  1.000000 -0.243005    0.433067   \n",
       "BallMove    -0.123880  0.107043 -0.000893 -0.243005  1.000000   -0.124009   \n",
       "PlayerMove   0.222560  0.138066  0.300889  0.433067 -0.124009    1.000000   \n",
       "MoreyRank    0.436235 -0.350153 -0.667192 -0.132498  0.076239    0.098466   \n",
       "PaceRank     0.095122 -0.080757 -0.158577 -0.664263  0.344088    0.126933   \n",
       "BallRank     0.125521 -0.103615 -0.002070  0.239357 -0.954650    0.117577   \n",
       "Player Rank -0.327443  0.299199  0.076153  0.136771  0.162466   -0.638832   \n",
       "Year         0.000000  0.488746  0.584636  0.708673 -0.003051    0.648961   \n",
       "\n",
       "             MoreyRank  PaceRank  BallRank  Player Rank      Year  \n",
       "ORTGRank      0.436235  0.095122  0.125521    -0.327443  0.000000  \n",
       "ORTG         -0.350153 -0.080757 -0.103615     0.299199  0.488746  \n",
       "Morey        -0.667192 -0.158577 -0.002070     0.076153  0.584636  \n",
       "Pace         -0.132498 -0.664263  0.239357     0.136771  0.708673  \n",
       "BallMove      0.076239  0.344088 -0.954650     0.162466 -0.003051  \n",
       "PlayerMove    0.098466  0.126933  0.117577    -0.638832  0.648961  \n",
       "MoreyRank     1.000000  0.195264 -0.038743    -0.122411  0.001912  \n",
       "PaceRank      0.195264  1.000000 -0.342806    -0.202733  0.000000  \n",
       "BallRank     -0.038743 -0.342806  1.000000    -0.134484 -0.001376  \n",
       "Player Rank  -0.122411 -0.202733 -0.134484     1.000000  0.000000  \n",
       "Year          0.001912  0.000000 -0.001376     0.000000  1.000000  "
      ]
     },
     "execution_count": 21,
     "metadata": {},
     "output_type": "execute_result"
    }
   ],
   "source": [
    "data.corr()"
   ]
  },
  {
   "cell_type": "markdown",
   "metadata": {},
   "source": [
    "All I want to see is how these variables correlate to ORTG."
   ]
  },
  {
   "cell_type": "code",
   "execution_count": 22,
   "metadata": {},
   "outputs": [],
   "source": [
    "corr = data.corr()"
   ]
  },
  {
   "cell_type": "code",
   "execution_count": 23,
   "metadata": {},
   "outputs": [
    {
     "name": "stdout",
     "output_type": "stream",
     "text": [
      "ORTGRank      -0.823889\n",
      "ORTG           1.000000\n",
      "Morey          0.545056\n",
      "Pace           0.417175\n",
      "BallMove       0.107043\n",
      "PlayerMove     0.138066\n",
      "MoreyRank     -0.350153\n",
      "PaceRank      -0.080757\n",
      "BallRank      -0.103615\n",
      "Player Rank    0.299199\n",
      "Year           0.488746\n",
      "Name: ORTG, dtype: float64\n"
     ]
    }
   ],
   "source": [
    "print(corr['ORTG'])"
   ]
  },
  {
   "cell_type": "code",
   "execution_count": 24,
   "metadata": {},
   "outputs": [
    {
     "data": {
      "text/plain": [
       "2020    30\n",
       "2019    30\n",
       "2018    30\n",
       "2017    30\n",
       "2016    30\n",
       "2015    30\n",
       "2014    30\n",
       "Name: Year, dtype: int64"
      ]
     },
     "execution_count": 24,
     "metadata": {},
     "output_type": "execute_result"
    }
   ],
   "source": [
    "data.Year.value_counts()"
   ]
  },
  {
   "cell_type": "markdown",
   "metadata": {},
   "source": [
    "Checking for nulls because I don't want any Nulls or it might cause my model to fail."
   ]
  },
  {
   "cell_type": "code",
   "execution_count": 25,
   "metadata": {},
   "outputs": [
    {
     "data": {
      "text/html": [
       "<div>\n",
       "<style scoped>\n",
       "    .dataframe tbody tr th:only-of-type {\n",
       "        vertical-align: middle;\n",
       "    }\n",
       "\n",
       "    .dataframe tbody tr th {\n",
       "        vertical-align: top;\n",
       "    }\n",
       "\n",
       "    .dataframe thead th {\n",
       "        text-align: right;\n",
       "    }\n",
       "</style>\n",
       "<table border=\"1\" class=\"dataframe\">\n",
       "  <thead>\n",
       "    <tr style=\"text-align: right;\">\n",
       "      <th></th>\n",
       "      <th>Null Count</th>\n",
       "    </tr>\n",
       "    <tr>\n",
       "      <th>Feature</th>\n",
       "      <th></th>\n",
       "    </tr>\n",
       "  </thead>\n",
       "  <tbody>\n",
       "    <tr>\n",
       "      <td>Year</td>\n",
       "      <td>0</td>\n",
       "    </tr>\n",
       "    <tr>\n",
       "      <td>Player Rank</td>\n",
       "      <td>0</td>\n",
       "    </tr>\n",
       "    <tr>\n",
       "      <td>BallRank</td>\n",
       "      <td>0</td>\n",
       "    </tr>\n",
       "    <tr>\n",
       "      <td>PaceRank</td>\n",
       "      <td>0</td>\n",
       "    </tr>\n",
       "    <tr>\n",
       "      <td>MoreyRank</td>\n",
       "      <td>0</td>\n",
       "    </tr>\n",
       "    <tr>\n",
       "      <td>PlayerMove</td>\n",
       "      <td>0</td>\n",
       "    </tr>\n",
       "    <tr>\n",
       "      <td>BallMove</td>\n",
       "      <td>0</td>\n",
       "    </tr>\n",
       "    <tr>\n",
       "      <td>Pace</td>\n",
       "      <td>0</td>\n",
       "    </tr>\n",
       "    <tr>\n",
       "      <td>Morey</td>\n",
       "      <td>0</td>\n",
       "    </tr>\n",
       "    <tr>\n",
       "      <td>ORTG</td>\n",
       "      <td>0</td>\n",
       "    </tr>\n",
       "    <tr>\n",
       "      <td>Team</td>\n",
       "      <td>0</td>\n",
       "    </tr>\n",
       "    <tr>\n",
       "      <td>ORTGRank</td>\n",
       "      <td>0</td>\n",
       "    </tr>\n",
       "  </tbody>\n",
       "</table>\n",
       "</div>"
      ],
      "text/plain": [
       "             Null Count\n",
       "Feature                \n",
       "Year                  0\n",
       "Player Rank           0\n",
       "BallRank              0\n",
       "PaceRank              0\n",
       "MoreyRank             0\n",
       "PlayerMove            0\n",
       "BallMove              0\n",
       "Pace                  0\n",
       "Morey                 0\n",
       "ORTG                  0\n",
       "Team                  0\n",
       "ORTGRank              0"
      ]
     },
     "execution_count": 25,
     "metadata": {},
     "output_type": "execute_result"
    }
   ],
   "source": [
    "nulls = pd.DataFrame(data.isnull().sum().sort_values(ascending=False)[:25])\n",
    "nulls.columns = ['Null Count']\n",
    "nulls.index.name = 'Feature'\n",
    "nulls"
   ]
  },
  {
   "cell_type": "markdown",
   "metadata": {},
   "source": [
    "y=independent variable\n",
    "X=dependent variables"
   ]
  },
  {
   "cell_type": "code",
   "execution_count": 27,
   "metadata": {},
   "outputs": [],
   "source": [
    "y = data.ORTG\n",
    "X = data[['Morey', 'Pace', 'BallMove', 'PlayerMove']]"
   ]
  },
  {
   "cell_type": "markdown",
   "metadata": {},
   "source": [
    "Separate into training and testing set."
   ]
  },
  {
   "cell_type": "code",
   "execution_count": 28,
   "metadata": {},
   "outputs": [],
   "source": [
    "from sklearn.model_selection import train_test_split\n",
    "X_train, X_test, y_train, y_test = train_test_split(\n",
    "                          X, y, random_state=42, test_size=.33)"
   ]
  },
  {
   "cell_type": "markdown",
   "metadata": {},
   "source": [
    "Now lets make our linear model."
   ]
  },
  {
   "cell_type": "code",
   "execution_count": 29,
   "metadata": {},
   "outputs": [],
   "source": [
    "from sklearn import linear_model\n",
    "lr = linear_model.LinearRegression()"
   ]
  },
  {
   "cell_type": "code",
   "execution_count": 30,
   "metadata": {},
   "outputs": [],
   "source": [
    "model = lr.fit(X_train, y_train)"
   ]
  },
  {
   "cell_type": "code",
   "execution_count": 31,
   "metadata": {},
   "outputs": [
    {
     "data": {
      "text/html": [
       "<div>\n",
       "<style scoped>\n",
       "    .dataframe tbody tr th:only-of-type {\n",
       "        vertical-align: middle;\n",
       "    }\n",
       "\n",
       "    .dataframe tbody tr th {\n",
       "        vertical-align: top;\n",
       "    }\n",
       "\n",
       "    .dataframe thead th {\n",
       "        text-align: right;\n",
       "    }\n",
       "</style>\n",
       "<table border=\"1\" class=\"dataframe\">\n",
       "  <thead>\n",
       "    <tr style=\"text-align: right;\">\n",
       "      <th></th>\n",
       "      <th>Coefficient</th>\n",
       "    </tr>\n",
       "  </thead>\n",
       "  <tbody>\n",
       "    <tr>\n",
       "      <td>Morey</td>\n",
       "      <td>28.274019</td>\n",
       "    </tr>\n",
       "    <tr>\n",
       "      <td>Pace</td>\n",
       "      <td>0.353137</td>\n",
       "    </tr>\n",
       "    <tr>\n",
       "      <td>BallMove</td>\n",
       "      <td>4.209053</td>\n",
       "    </tr>\n",
       "    <tr>\n",
       "      <td>PlayerMove</td>\n",
       "      <td>-1.131052</td>\n",
       "    </tr>\n",
       "  </tbody>\n",
       "</table>\n",
       "</div>"
      ],
      "text/plain": [
       "            Coefficient\n",
       "Morey         28.274019\n",
       "Pace           0.353137\n",
       "BallMove       4.209053\n",
       "PlayerMove    -1.131052"
      ]
     },
     "execution_count": 31,
     "metadata": {},
     "output_type": "execute_result"
    }
   ],
   "source": [
    "pd.DataFrame(model.coef_, X.columns, columns=['Coefficient'])  "
   ]
  },
  {
   "cell_type": "code",
   "execution_count": 33,
   "metadata": {},
   "outputs": [
    {
     "name": "stdout",
     "output_type": "stream",
     "text": [
      "R^2 is: \n",
      " 0.3325030179046826\n"
     ]
    }
   ],
   "source": [
    "print (\"R^2 is: \\n\", model.score(X_test, y_test))"
   ]
  },
  {
   "cell_type": "code",
   "execution_count": 35,
   "metadata": {},
   "outputs": [],
   "source": [
    "predictions = model.predict(X_test)"
   ]
  },
  {
   "cell_type": "code",
   "execution_count": 36,
   "metadata": {},
   "outputs": [
    {
     "data": {
      "text/html": [
       "<div>\n",
       "<style scoped>\n",
       "    .dataframe tbody tr th:only-of-type {\n",
       "        vertical-align: middle;\n",
       "    }\n",
       "\n",
       "    .dataframe tbody tr th {\n",
       "        vertical-align: top;\n",
       "    }\n",
       "\n",
       "    .dataframe thead th {\n",
       "        text-align: right;\n",
       "    }\n",
       "</style>\n",
       "<table border=\"1\" class=\"dataframe\">\n",
       "  <thead>\n",
       "    <tr style=\"text-align: right;\">\n",
       "      <th></th>\n",
       "      <th>Actual</th>\n",
       "      <th>Predicted</th>\n",
       "    </tr>\n",
       "  </thead>\n",
       "  <tbody>\n",
       "    <tr>\n",
       "      <td>30</td>\n",
       "      <td>111.6</td>\n",
       "      <td>107.514469</td>\n",
       "    </tr>\n",
       "    <tr>\n",
       "      <td>172</td>\n",
       "      <td>107.5</td>\n",
       "      <td>109.961303</td>\n",
       "    </tr>\n",
       "    <tr>\n",
       "      <td>84</td>\n",
       "      <td>103.8</td>\n",
       "      <td>106.503488</td>\n",
       "    </tr>\n",
       "    <tr>\n",
       "      <td>199</td>\n",
       "      <td>108.9</td>\n",
       "      <td>107.942466</td>\n",
       "    </tr>\n",
       "    <tr>\n",
       "      <td>60</td>\n",
       "      <td>113.5</td>\n",
       "      <td>108.077867</td>\n",
       "    </tr>\n",
       "    <tr>\n",
       "      <td>...</td>\n",
       "      <td>...</td>\n",
       "      <td>...</td>\n",
       "    </tr>\n",
       "    <tr>\n",
       "      <td>205</td>\n",
       "      <td>106.9</td>\n",
       "      <td>108.461315</td>\n",
       "    </tr>\n",
       "    <tr>\n",
       "      <td>208</td>\n",
       "      <td>105.8</td>\n",
       "      <td>109.039326</td>\n",
       "    </tr>\n",
       "    <tr>\n",
       "      <td>31</td>\n",
       "      <td>110.4</td>\n",
       "      <td>106.840893</td>\n",
       "    </tr>\n",
       "    <tr>\n",
       "      <td>12</td>\n",
       "      <td>106.2</td>\n",
       "      <td>104.713813</td>\n",
       "    </tr>\n",
       "    <tr>\n",
       "      <td>35</td>\n",
       "      <td>108.2</td>\n",
       "      <td>106.025555</td>\n",
       "    </tr>\n",
       "  </tbody>\n",
       "</table>\n",
       "<p>70 rows × 2 columns</p>\n",
       "</div>"
      ],
      "text/plain": [
       "     Actual   Predicted\n",
       "30    111.6  107.514469\n",
       "172   107.5  109.961303\n",
       "84    103.8  106.503488\n",
       "199   108.9  107.942466\n",
       "60    113.5  108.077867\n",
       "..      ...         ...\n",
       "205   106.9  108.461315\n",
       "208   105.8  109.039326\n",
       "31    110.4  106.840893\n",
       "12    106.2  104.713813\n",
       "35    108.2  106.025555\n",
       "\n",
       "[70 rows x 2 columns]"
      ]
     },
     "execution_count": 36,
     "metadata": {},
     "output_type": "execute_result"
    }
   ],
   "source": [
    "pd.DataFrame({'Actual': y_test, 'Predicted': predictions})"
   ]
  },
  {
   "cell_type": "code",
   "execution_count": 37,
   "metadata": {},
   "outputs": [
    {
     "name": "stdout",
     "output_type": "stream",
     "text": [
      "RMSE is: \n",
      " 2.8052001362572576\n"
     ]
    }
   ],
   "source": [
    "from sklearn.metrics import mean_squared_error\n",
    "print ('RMSE is: \\n', mean_squared_error(y_test, predictions)**0.5)"
   ]
  },
  {
   "cell_type": "code",
   "execution_count": 38,
   "metadata": {},
   "outputs": [
    {
     "data": {
      "image/png": "[encoded data removed]",
      "text/plain": [
       "<Figure size 432x288 with 1 Axes>"
      ]
     },
     "metadata": {
      "needs_background": "light"
     },
     "output_type": "display_data"
    }
   ],
   "source": [
    "actual_values = y_test\n",
    "plt.scatter(predictions, actual_values, alpha=.7,\n",
    "            color='b') #alpha helps to show overlapping data\n",
    "plt.xlabel('Predicted ORTG')\n",
    "plt.ylabel('Actual ORTG')\n",
    "plt.title('Linear Regression Model')\n",
    "plt.show()"
   ]
  },
  {
   "cell_type": "markdown",
   "metadata": {},
   "source": [
    "This is where the illustrations will be, the low correlation has helped us conclude that there isn't really a hard and fast rule for this stuff."
   ]
  },
  {
   "cell_type": "code",
   "execution_count": null,
   "metadata": {},
   "outputs": [],
   "source": [
    "import turtle"
   ]
  }
 ],
 "metadata": {
  "kernelspec": {
   "display_name": "Python 3",
   "language": "python",
   "name": "python3"
  },
  "language_info": {
   "codemirror_mode": {
    "name": "ipython",
    "version": 3
   },
   "file_extension": ".py",
   "mimetype": "text/x-python",
   "name": "python",
   "nbconvert_exporter": "python",
   "pygments_lexer": "ipython3",
   "version": "3.7.4"
  }
 },
 "nbformat": 4,
 "nbformat_minor": 2
}
